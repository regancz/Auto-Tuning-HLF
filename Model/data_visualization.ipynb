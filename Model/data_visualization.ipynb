{
 "cells": [
  {
   "cell_type": "code",
   "execution_count": 2,
   "metadata": {
    "collapsed": true,
    "pycharm": {
     "name": "#%%\n"
    }
   },
   "outputs": [
    {
     "name": "stdout",
     "output_type": "stream",
     "text": [
      "Entropy: tps           0.485475\n",
      "error_rate    0.488866\n",
      "delay         0.459148\n",
      "write_rate    0.459148\n",
      "dtype: float64\n",
      "Weight: tps           0.244156\n",
      "error_rate    0.242547\n",
      "delay         0.256649\n",
      "write_rate    0.256649\n",
      "dtype: float64\n"
     ]
    },
    {
     "name": "stderr",
     "output_type": "stream",
     "text": [
      "F:\\Tools\\Anaconda3\\envs\\Auto-Tuning-HLF\\lib\\site-packages\\pandas\\core\\internals\\blocks.py:329: RuntimeWarning: divide by zero encountered in log\n",
      "  result = func(self.values, **kwargs)\n"
     ]
    }
   ],
   "source": [
    "import numpy as np\n",
    "import pandas as pd\n",
    "\n",
    "# 假设有四个指标的数据，存储在 DataFrame 中\n",
    "data = {\n",
    "    'tps': [100, 150, 120, 130],\n",
    "    'error_rate': [10, 15, 8, 12],\n",
    "    'delay': [5, 8, 6, 7],\n",
    "    'write_rate': [200, 180, 210, 190]\n",
    "}\n",
    "\n",
    "df = pd.DataFrame(data)\n",
    "\n",
    "# 数据归一化\n",
    "df_normalized = (df - df.min()) / (df.max() - df.min())\n",
    "\n",
    "# 计算信息熵\n",
    "entropy = (-1) * (1 / np.log(len(df))) * ((df_normalized * np.log(df_normalized)).sum())\n",
    "\n",
    "# 计算权重\n",
    "weight = (1 - entropy) / sum(1 - entropy)\n",
    "\n",
    "print(\"Entropy:\", entropy)\n",
    "print(\"Weight:\", weight)"
   ]
  }
 ],
 "metadata": {
  "kernelspec": {
   "display_name": "Python 3",
   "language": "python",
   "name": "python3"
  },
  "language_info": {
   "codemirror_mode": {
    "name": "ipython",
    "version": 2
   },
   "file_extension": ".py",
   "mimetype": "text/x-python",
   "name": "python",
   "nbconvert_exporter": "python",
   "pygments_lexer": "ipython2",
   "version": "2.7.6"
  }
 },
 "nbformat": 4,
 "nbformat_minor": 0
}